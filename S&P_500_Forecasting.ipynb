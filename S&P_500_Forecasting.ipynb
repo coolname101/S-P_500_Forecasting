{
  "nbformat": 4,
  "nbformat_minor": 0,
  "metadata": {
    "colab": {
      "provenance": []
    },
    "kernelspec": {
      "name": "python3",
      "display_name": "Python 3"
    },
    "language_info": {
      "name": "python"
    }
  },
  "cells": [
    {
      "cell_type": "markdown",
      "source": [
        "#Introduction"
      ],
      "metadata": {
        "id": "GkHEi4vCzx10"
      }
    },
    {
      "cell_type": "markdown",
      "source": [
        "##Problem Statement"
      ],
      "metadata": {
        "id": "I5VzGCMrz1I7"
      }
    },
    {
      "cell_type": "markdown",
      "source": [],
      "metadata": {
        "id": "9DXMOGDjz5HF"
      }
    },
    {
      "cell_type": "markdown",
      "source": [
        "#Import Library"
      ],
      "metadata": {
        "id": "y-iBELpNzfYM"
      }
    },
    {
      "cell_type": "code",
      "execution_count": null,
      "metadata": {
        "id": "-OK-t5MvzeRi"
      },
      "outputs": [],
      "source": []
    },
    {
      "cell_type": "markdown",
      "source": [
        "#Import Data"
      ],
      "metadata": {
        "id": "CaIkMy6uzlRc"
      }
    },
    {
      "cell_type": "code",
      "source": [],
      "metadata": {
        "id": "EA3tJI84zoCw"
      },
      "execution_count": null,
      "outputs": []
    },
    {
      "cell_type": "markdown",
      "source": [
        "#Exploratory Data Analysis"
      ],
      "metadata": {
        "id": "SpGNy6wozqY8"
      }
    },
    {
      "cell_type": "code",
      "source": [],
      "metadata": {
        "id": "KTJvjsmsztoh"
      },
      "execution_count": null,
      "outputs": []
    },
    {
      "cell_type": "markdown",
      "source": [],
      "metadata": {
        "id": "2hVISBpTzufu"
      }
    },
    {
      "cell_type": "markdown",
      "source": [
        "#Data Pre-processing"
      ],
      "metadata": {
        "id": "5H8I3NREz-_b"
      }
    },
    {
      "cell_type": "code",
      "source": [],
      "metadata": {
        "id": "2AOCbuFL0BM5"
      },
      "execution_count": null,
      "outputs": []
    },
    {
      "cell_type": "markdown",
      "source": [
        "##Feature Engineering"
      ],
      "metadata": {
        "id": "x0DKPbwX0nGt"
      }
    },
    {
      "cell_type": "markdown",
      "source": [
        "##Scaling"
      ],
      "metadata": {
        "id": "ToBRdgCr0zen"
      }
    },
    {
      "cell_type": "code",
      "source": [],
      "metadata": {
        "id": "OBky1pQT0rue"
      },
      "execution_count": null,
      "outputs": []
    },
    {
      "cell_type": "markdown",
      "source": [
        "#Modelling & Forecasting"
      ],
      "metadata": {
        "id": "fRLUeVjg02fo"
      }
    },
    {
      "cell_type": "code",
      "source": [],
      "metadata": {
        "id": "8BUywN5503_5"
      },
      "execution_count": null,
      "outputs": []
    },
    {
      "cell_type": "markdown",
      "source": [
        "#Model Evaluation"
      ],
      "metadata": {
        "id": "KVzmCl2y04lo"
      }
    },
    {
      "cell_type": "code",
      "source": [],
      "metadata": {
        "id": "1k-JbgbW1EOZ"
      },
      "execution_count": null,
      "outputs": []
    },
    {
      "cell_type": "markdown",
      "source": [
        "#Conclusion"
      ],
      "metadata": {
        "id": "JEo75HTT1Fqw"
      }
    },
    {
      "cell_type": "code",
      "source": [],
      "metadata": {
        "id": "TdXuKWhK1G4i"
      },
      "execution_count": null,
      "outputs": []
    }
  ]
}